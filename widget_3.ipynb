{
 "cells": [
  {
   "cell_type": "code",
   "execution_count": 2,
   "metadata": {},
   "outputs": [],
   "source": [
    "import matplotlib.pyplot as plt\n",
    "import numpy as np \n",
    "from ipywidgets import interact\n",
    "np.random.seed(seed=567)"
   ]
  },
  {
   "cell_type": "code",
   "execution_count": 3,
   "metadata": {},
   "outputs": [],
   "source": [
    "def num_booked(booking):\n",
    "    booking_num= np.array(np.random.binomial(n=booking, p=0.92, size=10000))\n",
    "    length = len(np.unique(np.array(booking_num)))\n",
    "    np.unique(np.array(booking_num))\n",
    "    fig = plt.figure()\n",
    "    ax = fig.add_subplot(111)\n",
    "    n, bins, patches = ax.hist(booking_num, bins = np.arange(84,104)-0.5, rwidth=0.9, density = True) #bins = 20\n",
    "    ax.set_xlabel('Number of rooms booked', size=16)\n",
    "    ax.set_ylabel('Frequency', size=16)\n",
    "    ax.set_xticks(range(85,booking))\n",
    "    plt.show()"
   ]
  },
  {
   "cell_type": "code",
   "execution_count": 4,
   "metadata": {},
   "outputs": [
    {
     "data": {
      "application/vnd.jupyter.widget-view+json": {
       "model_id": "8dc7757f865146c89d9745ca533c337e",
       "version_major": 2,
       "version_minor": 0
      },
      "text/plain": [
       "interactive(children=(Dropdown(description='booking', options=(90, 91, 92, 93, 94, 95, 96, 97, 98, 99, 100, 10…"
      ]
     },
     "metadata": {},
     "output_type": "display_data"
    }
   ],
   "source": [
    "interact(num_booked, booking=list(range(90,110, 1)));"
   ]
  }
 ],
 "metadata": {
  "kernelspec": {
   "display_name": "Python 3",
   "language": "python",
   "name": "python3"
  },
  "language_info": {
   "codemirror_mode": {
    "name": "ipython",
    "version": 3
   },
   "file_extension": ".py",
   "mimetype": "text/x-python",
   "name": "python",
   "nbconvert_exporter": "python",
   "pygments_lexer": "ipython3",
   "version": "3.7.9"
  }
 },
 "nbformat": 4,
 "nbformat_minor": 2
}
