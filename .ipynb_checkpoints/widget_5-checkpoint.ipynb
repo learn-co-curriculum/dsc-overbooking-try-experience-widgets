{
 "cells": [
  {
   "cell_type": "code",
   "execution_count": 1,
   "metadata": {},
   "outputs": [],
   "source": [
    "import matplotlib.pyplot as plt\n",
    "import numpy as np \n",
    "from ipywidgets import interact, interactive\n",
    "np.random.seed(seed=567)"
   ]
  },
  {
   "cell_type": "code",
   "execution_count": 2,
   "metadata": {},
   "outputs": [],
   "source": [
    "def graph_loop(num):\n",
    "    booking_104= np.array(np.random.binomial(n=104, p=0.92, size=10000))\n",
    "    # Revenue equals price per night times number of bookings\n",
    "    revenue = 220 * booking_104\n",
    "\n",
    "    # Cost is price of overbooking times number of rooms that are overbooked\n",
    "    cost = (booking_104 - 100) * 400\n",
    "\n",
    "    # Need to correct for negative cost (Cost is 0 when <= 100 guests end up staying)\n",
    "    cost_final = np.where(cost<0, 0, cost) \n",
    "\n",
    "    # Profit\n",
    "    profit = revenue - cost_final\n",
    "    n_experiments = 10000\n",
    "    rooms_in_loop = np.linspace(start=97, stop=120, num=24) \n",
    "    all_profits = []\n",
    "\n",
    "    for r in rooms_in_loop:\n",
    "        bookings = np.random.binomial(r, 0.92, n_experiments)\n",
    "        revenue = 220 * bookings\n",
    "        cost =  (bookings - 100) * 400\n",
    "        cost_final = np.where(cost<0, 0, cost) \n",
    "        profit = revenue - cost_final\n",
    "        expected_profit = np.sum(profit)/ n_experiments\n",
    "        all_profits.append(expected_profit)\n",
    "    fig = plt.figure()\n",
    "    plt.plot(rooms_in_loop, all_profits)\n",
    "    plt.xlabel('Number of rooms booked', size=16)\n",
    "    plt.ylabel('Profit in USD', size=16)\n",
    "    plt.show()"
   ]
  },
  {
   "cell_type": "code",
   "execution_count": 3,
   "metadata": {},
   "outputs": [
    {
     "data": {
      "application/vnd.jupyter.widget-view+json": {
       "model_id": "5a894fc4510b4b8fac5987783064184b",
       "version_major": 2,
       "version_minor": 0
      },
      "text/plain": [
       "interactive(children=(IntSlider(value=1, description='num', max=3, min=-1), Output()), _dom_classes=('widget-i…"
      ]
     },
     "metadata": {},
     "output_type": "display_data"
    }
   ],
   "source": [
    "interact(graph_loop, num=1);"
   ]
  }
 ],
 "metadata": {
  "kernelspec": {
   "display_name": "Python 3",
   "language": "python",
   "name": "python3"
  },
  "language_info": {
   "codemirror_mode": {
    "name": "ipython",
    "version": 3
   },
   "file_extension": ".py",
   "mimetype": "text/x-python",
   "name": "python",
   "nbconvert_exporter": "python",
   "pygments_lexer": "ipython3",
   "version": "3.7.10"
  }
 },
 "nbformat": 4,
 "nbformat_minor": 2
}
