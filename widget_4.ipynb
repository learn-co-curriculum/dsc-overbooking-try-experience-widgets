{
 "cells": [
  {
   "cell_type": "code",
   "execution_count": 1,
   "metadata": {},
   "outputs": [],
   "source": [
    "import matplotlib.pyplot as plt\n",
    "import numpy as np \n",
    "from ipywidgets import interact, interactive\n",
    "np.random.seed(seed=567)"
   ]
  },
  {
   "cell_type": "code",
   "execution_count": 2,
   "metadata": {},
   "outputs": [],
   "source": [
    "def num_booked(booking=104):\n",
    "    booking_num= np.array(np.random.binomial(n=booking, p=0.92, size=10000))\n",
    "    length = len(np.unique(np.array(booking_num)))\n",
    "    np.unique(np.array(booking_num))\n",
    "    fig = plt.figure()\n",
    "    ax = fig.add_subplot(111)\n",
    "    bins = np.arange(booking_num.min(), booking_num.max())\n",
    "    n, bins, patches = ax.hist(booking_num, bins = bins-0.5, rwidth=0.9, density = True) \n",
    "    ax.set_xlabel(f\"Expected occupancy with {widget.kwargs['booking']} rooms booked\", size=16)\n",
    "    ax.set_ylabel('Frequency', size=16)\n",
    "    ax.set_xticks(range(85,booking))\n",
    "    plt.show()\n",
    "\n",
    "    booking_104= np.array(np.random.binomial(n=widget.kwargs['booking'], p=0.92, size=10000))\n",
    "    booking_number = np.array(booking_104)\n",
    "    revenue = 220 * booking_number\n",
    "    cost = (booking_number - 100) * 400\n",
    "    cost_final = np.where(cost<0, 0, cost) \n",
    "    profit = revenue - cost_final\n",
    "\n",
    "    booking_rooms= np.array(np.random.binomial(n=widget.kwargs['booking'], p=0.92, size=10000))\n",
    "    booking_number = np.array(booking_rooms)\n",
    "    revenue = 220 * booking_number\n",
    "    cost = (booking_number - 100) * 400\n",
    "    cost_final = np.where(cost<0, 0, cost) \n",
    "    profit = revenue - cost_final\n",
    "    fig = plt.figure()\n",
    "    ax = fig.add_subplot(111)\n",
    "    bins2 = np.arange(profit.min(), profit.max(),(round((profit.max() - profit.min())/18)))\n",
    "   \n",
    "    n, bins, patches = ax.hist(profit, bins = bins2,  rwidth=0.9, density = True) \n",
    "    ax.set_xlabel(f\"Expected profit when booking {widget.kwargs['booking']} rooms\", size=16)\n",
    "    ax.set_ylabel('Frequency', size=16)\n",
    "    plt.show()"
   ]
  },
  {
   "cell_type": "code",
   "execution_count": 3,
   "metadata": {
    "tags": []
   },
   "outputs": [
    {
     "data": {
      "application/vnd.jupyter.widget-view+json": {
       "model_id": "ef5aaa1a1c37478f980a6081332a5dc4",
       "version_major": 2,
       "version_minor": 0
      },
      "text/plain": [
       "interactive(children=(Dropdown(description='booking', index=14, options=(90, 91, 92, 93, 94, 95, 96, 97, 98, 9…"
      ]
     },
     "metadata": {},
     "output_type": "display_data"
    }
   ],
   "source": [
    "widget = interactive(num_booked, booking=[90, 91, 92, 93, 94, 95, 96, 97, 98, 99, 100, 101, 102, 103, 104, 105, 106, 107, 108, 109])\n",
    "display(widget)"
   ]
  }
 ],
 "metadata": {
  "kernelspec": {
   "display_name": "Python 3",
   "language": "python",
   "name": "python3"
  },
  "language_info": {
   "codemirror_mode": {
    "name": "ipython",
    "version": 3
   },
   "file_extension": ".py",
   "mimetype": "text/x-python",
   "name": "python",
   "nbconvert_exporter": "python",
   "pygments_lexer": "ipython3",
   "version": "3.7.10"
  }
 },
 "nbformat": 4,
 "nbformat_minor": 2
}
