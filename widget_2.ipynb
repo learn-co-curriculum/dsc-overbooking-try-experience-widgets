{
 "cells": [
  {
   "cell_type": "code",
   "execution_count": 1,
   "metadata": {},
   "outputs": [],
   "source": [
    "import matplotlib.pyplot as plt\n",
    "import numpy as np \n",
    "from ipywidgets import interact\n",
    "np.random.seed(seed=567)\n"
   ]
  },
  {
   "cell_type": "code",
   "execution_count": 2,
   "metadata": {},
   "outputs": [],
   "source": [
    "def booking(amount):\n",
    "    bookings = np.random.binomial(n=100, p=0.92, size=amount)\n",
    "\n",
    "    length = len(np.unique(np.array(bookings)))\n",
    "    np.unique(np.array(bookings))\n",
    "\n",
    "    fig = plt.figure()\n",
    "    ax = fig.add_subplot(111)\n",
    "    n, bins, patches = ax.hist(bookings, bins = np.arange(81,101)-0.5, rwidth=0.9, density = True) #bins = 20\n",
    "    ax.set_xlabel('Number of rooms booked', size=16)\n",
    "    ax.set_ylabel('Frequency', size=16)\n",
    "    ax.set_xticks(range(82,100))\n",
    "    plt.show()"
   ]
  },
  {
   "cell_type": "code",
   "execution_count": 3,
   "metadata": {},
   "outputs": [
    {
     "data": {
      "application/vnd.jupyter.widget-view+json": {
       "model_id": "a59dda32eddc4fa5aa545ce767dca1ec",
       "version_major": 2,
       "version_minor": 0
      },
      "text/plain": [
       "interactive(children=(Dropdown(description='amount', options=(1, 100, 1000, 10000, 100000, 1000000), value=1),…"
      ]
     },
     "metadata": {},
     "output_type": "display_data"
    }
   ],
   "source": [
    "interact(booking, amount=[1, 100, 1000, 10000, 100000, 1000000]);"
   ]
  }
 ],
 "metadata": {
  "kernelspec": {
   "display_name": "Python 3",
   "language": "python",
   "name": "python3"
  },
  "language_info": {
   "codemirror_mode": {
    "name": "ipython",
    "version": 3
   },
   "file_extension": ".py",
   "mimetype": "text/x-python",
   "name": "python",
   "nbconvert_exporter": "python",
   "pygments_lexer": "ipython3",
   "version": "3.7.9"
  }
 },
 "nbformat": 4,
 "nbformat_minor": 2
}
